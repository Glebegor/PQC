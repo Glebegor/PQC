{
 "cells": [
  {
   "cell_type": "markdown",
   "metadata": {},
   "source": [
    "# Dilithium\n",
    "\n",
    "## Description\n",
    "\n",
    "<p>CRYSTALS-Dilithium is a digital signature scheme. It replaces signature schemes based on factorization and elliptic curves.</p>\n",
    "\n",
    "## Math model\n",
    "\n",
    "### Signing\n",
    "\n",
    "<p>\n",
    "Given a message m, the signing process involves the following steps:\n",
    "1. Generate a nonce r using a deterministic function based on the message m and a secret key sk.\n",
    "2. Compute a vector z and a hint h using the nonce r, the secret key sk, and the message m.\n",
    "3. The signature σ is composed of the vector z and the hint h.\n",
    "</p>\n",
    "\n",
    "### Verifying\n",
    "\n",
    "<p>\n",
    "Given a signature σ and a message m, the verifying process involves the following steps:\n",
    "1. Parse the signature σ into the vector z and the hint h.\n",
    "2. Use the public key pk, the message m, and the hint h to compute a value w.\n",
    "3. Check if the vector z and the value w satisfy certain conditions. If they do, the signature is valid; otherwise, it is invalid.\n",
    "</p>\n"
   ]
  },
  {
   "cell_type": "code",
   "execution_count": 67,
   "metadata": {},
   "outputs": [
    {
     "name": "stdout",
     "output_type": "stream",
     "text": [
      "Public Key: [10  0 16 -4]\n",
      "Secret Key: [ 5  0  8 -2]\n",
      "Signature: (array([ 6,  1,  9, -4]), 3)\n",
      "Valid: False\n"
     ]
    }
   ],
   "source": [
    "import numpy as np\n",
    "import hashlib\n",
    "\n",
    "def hash_function(data):\n",
    "    return int(hashlib.sha256(data).hexdigest(), 16) % (2**32)\n",
    "\n",
    "def generate_keypair():\n",
    "    sk = np.random.randint(-10, 10, size=(4,))  # sec key\n",
    "    pk = sk * 2  # pub key\n",
    "    return pk, sk\n",
    "\n",
    "def generate_nonce(message, sk):\n",
    "    combined = message.encode() + sk.tobytes()\n",
    "    return hash_function(combined)\n",
    "\n",
    "def sign(message, sk):\n",
    "    r = generate_nonce(message, sk)\n",
    "    z = sk + np.random.randint(-2, 2, size=sk.shape)  # sk slightly\n",
    "    h = r % 4  \n",
    "    return (z, h)\n",
    "\n",
    "def verify(message, signature, pk):\n",
    "    z, h = signature\n",
    "    w = (z - np.random.randint(-2, 2, size=z.shape)) * 2  # verification \n",
    "    return np.all(w == pk) and h in {0, 1, 2, 3}  #  validity\n",
    "\n",
    "\n",
    "pk, sk = generate_keypair()\n",
    "message = \"Hello, PQC!\"\n",
    "signature = sign(message, sk)\n",
    "valid = verify(message, signature, pk)\n",
    "\n",
    "print(\"Public Key:\", pk)\n",
    "print(\"Secret Key:\", sk)\n",
    "print(\"Signature:\", signature)\n",
    "print(\"Valid:\", valid)"
   ]
  }
 ],
 "metadata": {
  "kernelspec": {
   "display_name": "Qiskit2",
   "language": "python",
   "name": "qiskit2"
  },
  "language_info": {
   "codemirror_mode": {
    "name": "ipython",
    "version": 3
   },
   "file_extension": ".py",
   "mimetype": "text/x-python",
   "name": "python",
   "nbconvert_exporter": "python",
   "pygments_lexer": "ipython3",
   "version": "3.12.4"
  }
 },
 "nbformat": 4,
 "nbformat_minor": 2
}
