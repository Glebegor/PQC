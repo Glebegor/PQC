{
 "cells": [
  {
   "cell_type": "markdown",
   "metadata": {},
   "source": [
    "# Falcon\n",
    "\n",
    "## Description\n",
    "\n",
    "<p>Falcon (Fast-Fourier Lattice-based Compact Signatures) is a post-quantum digital signature algorithm based on lattice cryptography. Designed to be compact, efficient and secure versus quantum attacks. </p>\n",
    "\n",
    "## Math model\n",
    "\n",
    "### Signing\n",
    "\n",
    "Given a message m, the signing process involves the following steps:\n",
    "\n",
    "1. Generate a random value r.\n",
    "2. Compute the hash H(m, r).\n",
    "3. Solve the lattice problem to find a short vector s such that A * s = H(m, r) mod q .\n",
    "\n",
    "The signature is the pair (s, r).\n",
    "\n",
    "### Verification\n",
    "\n",
    "Given a message  m and a signature (s, r), the verification process involves the following steps:\n",
    "\n",
    "1. Compute the hash H(m, r).\n",
    "2. Verify that A * s = H(m, r) mod q .\n",
    "\n",
    "If the equation holds, the signature is valid."
   ]
  },
  {
   "cell_type": "code",
   "execution_count": 4,
   "metadata": {},
   "outputs": [
    {
     "name": "stdout",
     "output_type": "stream",
     "text": [
      "Signature: (array([-1. ,  1.5]), 42)\n",
      "Is the signature valid? False\n"
     ]
    }
   ],
   "source": [
    "import numpy as np\n",
    "\n",
    "# hash function \n",
    "def hash_function(message, r):\n",
    "    return np.sum([ord(c) for c in message]) + r\n",
    "\n",
    "# lattice matrix A \n",
    "A = np.array([[1, 2], [3, 4]])\n",
    "\n",
    "# Signing function\n",
    "def sign(message, r):\n",
    "    H = hash_function(message, r)\n",
    "    # lattice problem \n",
    "    s = np.linalg.solve(A, np.array([H % 5, H % 7]))\n",
    "    return s, r\n",
    "\n",
    "# verification \n",
    "def verify(message, signature):\n",
    "    s, r = signature\n",
    "    H = hash_function(message, r)\n",
    "    return np.allclose(np.dot(A, s) % 5, H % 5) and np.allclose(np.dot(A, s) % 7, H % 7)\n",
    "\n",
    "\n",
    "message = \"Hello\"\n",
    "r = 42\n",
    "signature = sign(message, r)\n",
    "print(\"Signature:\", signature)\n",
    "\n",
    "is_valid = verify(message, signature)\n",
    "print(\"Is the signature valid?\", is_valid)"
   ]
  }
 ],
 "metadata": {
  "kernelspec": {
   "display_name": "Qiskit2",
   "language": "python",
   "name": "qiskit2"
  },
  "language_info": {
   "codemirror_mode": {
    "name": "ipython",
    "version": 3
   },
   "file_extension": ".py",
   "mimetype": "text/x-python",
   "name": "python",
   "nbconvert_exporter": "python",
   "pygments_lexer": "ipython3",
   "version": "3.12.4"
  }
 },
 "nbformat": 4,
 "nbformat_minor": 2
}
