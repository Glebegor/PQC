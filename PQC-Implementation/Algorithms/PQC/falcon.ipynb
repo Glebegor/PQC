{
 "cells": [
  {
   "cell_type": "markdown",
   "metadata": {},
   "source": [
    "# Falcon\n",
    "\n",
    "## Description\n",
    "\n",
    "<p>Falcon (Fast-Fourier Lattice-based Compact Signatures) is a post-quantum digital signature algorithm based on lattice cryptography. Designed to be compact, efficient and secure versus quantum attacks. </p>\n",
    "\n",
    "## Math model\n",
    "\n",
    "### Signing\n",
    "\n",
    "Given a message m, the signing process involves the following steps:\n",
    "\n",
    "1. Generate a random value r.\n",
    "2. Compute the hash H(m, r).\n",
    "3. Solve the lattice problem to find a short vector s such that A * s = H(m, r) mod q .\n",
    "\n",
    "The signature is the pair (s, r).\n",
    "\n",
    "### Verification\n",
    "\n",
    "Given a message  m and a signature (s, r), the verification process involves the following steps:\n",
    "\n",
    "1. Compute the hash H(m, r).\n",
    "2. Verify that A * s = H(m, r) mod q .\n",
    "\n",
    "If the equation holds, the signature is valid."
   ]
  },
  {
   "cell_type": "code",
   "execution_count": 11,
   "metadata": {},
   "outputs": [
    {
     "name": "stdout",
     "output_type": "stream",
     "text": [
      "Signature is valid: True\n"
     ]
    }
   ],
   "source": [
    "import numpy as np\n",
    "from numpy.fft import fft, ifft\n",
    "\n",
    "# discrete Gaussian sampling\n",
    "def discrete_gaussian_sample(n, sigma):\n",
    "    return np.random.normal(0, sigma, n).astype(int)\n",
    "\n",
    "# polynomial multiplication using FFT\n",
    "def polynomial_multiply(a, b):\n",
    "    return np.round(ifft(fft(a) * fft(b)).real).astype(int)\n",
    "\n",
    "def falcon_keygen(n, sigma):\n",
    "    # random polynomial f with coefficients in {-1, 0, 1}\n",
    "    f = np.random.randint(-1, 2, n)\n",
    "    \n",
    "    # random polynomial g with coefficients sampled from a discrete Gaussian distribution\n",
    "    g = discrete_gaussian_sample(n, sigma)\n",
    "    \n",
    "    # h = g / f in the ring Z[x]/(x^n + 1)\n",
    "    h = polynomial_multiply(g, np.fft.ifft(1 / np.fft.fft(f)).real)\n",
    "    \n",
    "    # pub key is h, prv key is (f, g)\n",
    "    return h, (f, g)\n",
    "\n",
    "\n",
    "def falcon_sign(message, private_key, n, sigma):\n",
    "    f, g = private_key\n",
    "    \n",
    "    # random polynomial y with coefficients sampled from a discrete Gaussian distribution\n",
    "    y = discrete_gaussian_sample(n, sigma)\n",
    "    \n",
    "    # c = H(message) where H is a hash function\n",
    "    c = np.sum(np.array([ord(char) for char in message])) % (2**32)\n",
    "    \n",
    "    # Compute z = y + c * f\n",
    "    z = y + c * f\n",
    "    \n",
    "    return z, c\n",
    "\n",
    "def falcon_verify(message, signature, public_key, n):\n",
    "    z, c = signature\n",
    "    h = public_key\n",
    "    \n",
    "    # c_prime = H(message)\n",
    "    c_prime = np.sum(np.array([ord(char) for char in message])) % (2**32)\n",
    "    \n",
    "    return c == c_prime\n",
    "\n",
    "if __name__ == \"__main__\":\n",
    "    n = 512  # Degree of the polynomial\n",
    "    sigma = 1.0  # Standard deviation for discrete Gaussian sampling\n",
    "\n",
    "    # Key generation\n",
    "    public_key, private_key = falcon_keygen(n, sigma)\n",
    "\n",
    "    # Message to be signed\n",
    "    message = \"Hello, Falcon!\"\n",
    "\n",
    "    # Sign the message\n",
    "    signature = falcon_sign(message, private_key, n, sigma)\n",
    "\n",
    "    # Verify the signature\n",
    "    is_valid = falcon_verify(message, signature, public_key, n)\n",
    "\n",
    "    print(\"Signature is valid:\", is_valid)"
   ]
  }
 ],
 "metadata": {
  "kernelspec": {
   "display_name": "Qiskit2",
   "language": "python",
   "name": "qiskit2"
  },
  "language_info": {
   "codemirror_mode": {
    "name": "ipython",
    "version": 3
   },
   "file_extension": ".py",
   "mimetype": "text/x-python",
   "name": "python",
   "nbconvert_exporter": "python",
   "pygments_lexer": "ipython3",
   "version": "3.12.4"
  }
 },
 "nbformat": 4,
 "nbformat_minor": 2
}
