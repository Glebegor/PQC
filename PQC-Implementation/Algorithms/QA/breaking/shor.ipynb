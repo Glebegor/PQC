{
 "cells": [
  {
   "cell_type": "markdown",
   "metadata": {},
   "source": [
    "# Shor"
   ]
  },
  {
   "cell_type": "code",
   "execution_count": 48,
   "metadata": {},
   "outputs": [
    {
     "name": "stdout",
     "output_type": "stream",
     "text": [
      "Imports Successful\n"
     ]
    }
   ],
   "source": [
    "import matplotlib.pyplot as plt\n",
    "import numpy as np\n",
    "from qiskit import QuantumCircuit, transpile\n",
    "from qiskit_aer import AerSimulator as Aer\n",
    "from qiskit.visualization import plot_histogram\n",
    "from math import gcd\n",
    "from numpy.random import randint\n",
    "import pandas as pd\n",
    "from fractions import Fraction\n",
    "print(\"Imports Successful\")"
   ]
  },
  {
   "cell_type": "code",
   "execution_count": 49,
   "metadata": {},
   "outputs": [],
   "source": [
    "N = 35\n",
    "a = 3\n",
    "\n",
    "def c_amod15(a, power):\n",
    "    \"\"\"Controlled multiplication by a mod 15\"\"\"\n",
    "    if a not in [2,4,7,8,11,13]:\n",
    "        raise ValueError(\"'a' must be 2,4,7,8,11 or 13\")\n",
    "    U = QuantumCircuit(4)\n",
    "    for _iteration in range(power):\n",
    "        if a in [2,13]:\n",
    "            U.swap(2,3)\n",
    "            U.swap(1,2)\n",
    "            U.swap(0,1)\n",
    "        if a in [7,8]:\n",
    "            U.swap(0,1)\n",
    "            U.swap(1,2)\n",
    "            U.swap(2,3)\n",
    "        if a in [4, 11]:\n",
    "            U.swap(1,3)\n",
    "            U.swap(0,2)\n",
    "        if a in [7,11,13]:\n",
    "            for q in range(4):\n",
    "                U.x(q)\n",
    "    U = U.to_gate()\n",
    "    U.name = f\"{a}^{power} mod 15\"\n",
    "    c_U = U.control()\n",
    "    return c_U"
   ]
  },
  {
   "cell_type": "code",
   "execution_count": 50,
   "metadata": {},
   "outputs": [],
   "source": [
    "# Specify variables\n",
    "qubits_count = 5  # number of counting qubits\n",
    "a = 7"
   ]
  },
  {
   "cell_type": "code",
   "execution_count": 51,
   "metadata": {},
   "outputs": [],
   "source": [
    "def qft_dagger(n):\n",
    "    \"\"\"n-qubit QFTdagger the first n qubits in circ\"\"\"\n",
    "    qc = QuantumCircuit(n)\n",
    "    # Don't forget the Swaps!\n",
    "    for qubit in range(n//2):\n",
    "        qc.swap(qubit, n-qubit-1)\n",
    "    for j in range(n):\n",
    "        for m in range(j):\n",
    "            qc.cp(-np.pi/float(2**(j-m)), m, j)\n",
    "        qc.h(j)\n",
    "    qc.name = \"QFT†\"\n",
    "    return qc"
   ]
  },
  {
   "cell_type": "code",
   "execution_count": null,
   "metadata": {},
   "outputs": [
    {
     "data": {
      "text/html": [
       "<pre style=\"word-wrap: normal;white-space: pre;background: #fff0;line-height: 1.1;font-family: &quot;Courier New&quot;,Courier,monospace\">     ┌───┐                                                                            ┌───────┐┌─┐            \n",
       "q_0: ┤ H ├───────■────────────────────────────────────────────────────────────────────┤0      ├┤M├────────────\n",
       "     ├───┤       │                                                                    │       │└╥┘┌─┐         \n",
       "q_1: ┤ H ├───────┼──────────────■─────────────────────────────────────────────────────┤1      ├─╫─┤M├─────────\n",
       "     ├───┤       │              │                                                     │       │ ║ └╥┘┌─┐      \n",
       "q_2: ┤ H ├───────┼──────────────┼──────────────■──────────────────────────────────────┤2 QFT† ├─╫──╫─┤M├──────\n",
       "     ├───┤       │              │              │                                      │       │ ║  ║ └╥┘┌─┐   \n",
       "q_3: ┤ H ├───────┼──────────────┼──────────────┼──────────────■───────────────────────┤3      ├─╫──╫──╫─┤M├───\n",
       "     ├───┤       │              │              │              │                       │       │ ║  ║  ║ └╥┘┌─┐\n",
       "q_4: ┤ H ├───────┼──────────────┼──────────────┼──────────────┼──────────────■────────┤4      ├─╫──╫──╫──╫─┤M├\n",
       "     ├───┤┌──────┴──────┐┌──────┴──────┐┌──────┴──────┐┌──────┴──────┐┌──────┴───────┐└───────┘ ║  ║  ║  ║ └╥┘\n",
       "q_5: ┤ X ├┤0            ├┤0            ├┤0            ├┤0            ├┤0             ├──────────╫──╫──╫──╫──╫─\n",
       "     └───┘│             ││             ││             ││             ││              │          ║  ║  ║  ║  ║ \n",
       "q_6: ─────┤1            ├┤1            ├┤1            ├┤1            ├┤1             ├──────────╫──╫──╫──╫──╫─\n",
       "          │  7^1 mod 15 ││  7^2 mod 15 ││  7^4 mod 15 ││  7^8 mod 15 ││  7^16 mod 15 │          ║  ║  ║  ║  ║ \n",
       "q_7: ─────┤2            ├┤2            ├┤2            ├┤2            ├┤2             ├──────────╫──╫──╫──╫──╫─\n",
       "          │             ││             ││             ││             ││              │          ║  ║  ║  ║  ║ \n",
       "q_8: ─────┤3            ├┤3            ├┤3            ├┤3            ├┤3             ├──────────╫──╫──╫──╫──╫─\n",
       "          └─────────────┘└─────────────┘└─────────────┘└─────────────┘└──────────────┘          ║  ║  ║  ║  ║ \n",
       "c: 5/═══════════════════════════════════════════════════════════════════════════════════════════╩══╩══╩══╩══╩═\n",
       "                                                                                                0  1  2  3  4 </pre>"
      ],
      "text/plain": [
       "     ┌───┐                                                                            ┌───────┐┌─┐            \n",
       "q_0: ┤ H ├───────■────────────────────────────────────────────────────────────────────┤0      ├┤M├────────────\n",
       "     ├───┤       │                                                                    │       │└╥┘┌─┐         \n",
       "q_1: ┤ H ├───────┼──────────────■─────────────────────────────────────────────────────┤1      ├─╫─┤M├─────────\n",
       "     ├───┤       │              │                                                     │       │ ║ └╥┘┌─┐      \n",
       "q_2: ┤ H ├───────┼──────────────┼──────────────■──────────────────────────────────────┤2 QFT† ├─╫──╫─┤M├──────\n",
       "     ├───┤       │              │              │                                      │       │ ║  ║ └╥┘┌─┐   \n",
       "q_3: ┤ H ├───────┼──────────────┼──────────────┼──────────────■───────────────────────┤3      ├─╫──╫──╫─┤M├───\n",
       "     ├───┤       │              │              │              │                       │       │ ║  ║  ║ └╥┘┌─┐\n",
       "q_4: ┤ H ├───────┼──────────────┼──────────────┼──────────────┼──────────────■────────┤4      ├─╫──╫──╫──╫─┤M├\n",
       "     ├───┤┌──────┴──────┐┌──────┴──────┐┌──────┴──────┐┌──────┴──────┐┌──────┴───────┐└───────┘ ║  ║  ║  ║ └╥┘\n",
       "q_5: ┤ X ├┤0            ├┤0            ├┤0            ├┤0            ├┤0             ├──────────╫──╫──╫──╫──╫─\n",
       "     └───┘│             ││             ││             ││             ││              │          ║  ║  ║  ║  ║ \n",
       "q_6: ─────┤1            ├┤1            ├┤1            ├┤1            ├┤1             ├──────────╫──╫──╫──╫──╫─\n",
       "          │  7^1 mod 15 ││  7^2 mod 15 ││  7^4 mod 15 ││  7^8 mod 15 ││  7^16 mod 15 │          ║  ║  ║  ║  ║ \n",
       "q_7: ─────┤2            ├┤2            ├┤2            ├┤2            ├┤2             ├──────────╫──╫──╫──╫──╫─\n",
       "          │             ││             ││             ││             ││              │          ║  ║  ║  ║  ║ \n",
       "q_8: ─────┤3            ├┤3            ├┤3            ├┤3            ├┤3             ├──────────╫──╫──╫──╫──╫─\n",
       "          └─────────────┘└─────────────┘└─────────────┘└─────────────┘└──────────────┘          ║  ║  ║  ║  ║ \n",
       "c: 5/═══════════════════════════════════════════════════════════════════════════════════════════╩══╩══╩══╩══╩═\n",
       "                                                                                                0  1  2  3  4 "
      ]
     },
     "execution_count": 52,
     "metadata": {},
     "output_type": "execute_result"
    }
   ],
   "source": [
    "# Create QuantumCircuit with N_COUNT counting qubits\n",
    "# plus 4 qubits for U to act on\n",
    "qc = QuantumCircuit(qubits_count + 4, qubits_count)\n",
    "\n",
    "# Initialize counting qubits\n",
    "# in state |+>\n",
    "for q in range(qubits_count):\n",
    "    qc.h(q)\n",
    "\n",
    "# And auxiliary register in state |1>\n",
    "qc.x(qubits_count)\n",
    "\n",
    "# Do controlled-U operations\n",
    "for q in range(qubits_count):\n",
    "    qc.append(c_amod15(a, 2**q),\n",
    "             [q] + [i+qubits_count for i in range(4)])\n",
    "\n",
    "# Do inverse-QFT\n",
    "qc.append(qft_dagger(qubits_count), range(qubits_count))\n",
    "\n",
    "# Measure circuit\n",
    "qc.measure(range(qubits_count), range(qubits_count))\n",
    "# qc.draw(fold=-1)  # -1 means 'do not fold'\n",
    "qc.draw('mpl')"
   ]
  },
  {
   "cell_type": "code",
   "execution_count": 53,
   "metadata": {},
   "outputs": [
    {
     "name": "stdout",
     "output_type": "stream",
     "text": [
      "Count of shots: 1024\n"
     ]
    },
    {
     "data": {
      "image/png": "[encoded data removed]",
      "text/plain": [
       "<Figure size 640x480 with 1 Axes>"
      ]
     },
     "execution_count": 53,
     "metadata": {},
     "output_type": "execute_result"
    }
   ],
   "source": [
    "backend = Aer()\n",
    "t_qc = transpile(qc, backend)\n",
    "counts = backend.run(t_qc).result().get_counts()\n",
    "print(f\"Count of shots: {sum(counts.values())}\")\n",
    "plot_histogram(counts)"
   ]
  },
  {
   "cell_type": "code",
   "execution_count": 54,
   "metadata": {},
   "outputs": [
    {
     "name": "stdout",
     "output_type": "stream",
     "text": [
      "         Register Output         Phase\n",
      "0  11000(bin) =  24(dec)  24/32 = 0.75\n",
      "1  00000(bin) =   0(dec)   0/32 = 0.00\n",
      "2  01000(bin) =   8(dec)   8/32 = 0.25\n",
      "3  10000(bin) =  16(dec)  16/32 = 0.50\n"
     ]
    }
   ],
   "source": [
    "rows, measured_phases = [], []\n",
    "for output in counts:\n",
    "    decimal = int(output, 2)  # Convert (base 2) string to decimal\n",
    "    phase = decimal/(2**qubits_count)  # Find corresponding eigenvalue\n",
    "    measured_phases.append(phase)\n",
    "    # Add these values to the rows in our table:\n",
    "    rows.append([f\"{output}(bin) = {decimal:>3}(dec)\",\n",
    "                 f\"{decimal}/{2**qubits_count} = {phase:.2f}\"])\n",
    "# Print the rows in a table\n",
    "headers=[\"Register Output\", \"Phase\"]\n",
    "df = pd.DataFrame(rows, columns=headers)\n",
    "print(df)"
   ]
  },
  {
   "cell_type": "code",
   "execution_count": 55,
   "metadata": {},
   "outputs": [
    {
     "name": "stdout",
     "output_type": "stream",
     "text": [
      "   Phase Fraction  Guess for r\n",
      "0   0.75      3/4            4\n",
      "1   0.00      0/1            1\n",
      "2   0.25      1/4            4\n",
      "3   0.50      1/2            2\n"
     ]
    }
   ],
   "source": [
    "rows = []\n",
    "for phase in measured_phases:\n",
    "    frac = Fraction(phase).limit_denominator(15)\n",
    "    rows.append([phase,\n",
    "                 f\"{frac.numerator}/{frac.denominator}\",\n",
    "                 frac.denominator])\n",
    "# Print as a table\n",
    "headers=[\"Phase\", \"Fraction\", \"Guess for r\"]\n",
    "df = pd.DataFrame(rows, columns=headers)\n",
    "print(df)"
   ]
  },
  {
   "cell_type": "code",
   "execution_count": 56,
   "metadata": {},
   "outputs": [],
   "source": [
    "def a2jmodN(a, j, N):\n",
    "    \"\"\"Compute a^{2^j} (mod N) by repeated squaring\"\"\"\n",
    "    for _ in range(j):\n",
    "        a = np.mod(a**2, N)\n",
    "    return a"
   ]
  },
  {
   "cell_type": "code",
   "execution_count": 57,
   "metadata": {},
   "outputs": [
    {
     "name": "stdout",
     "output_type": "stream",
     "text": [
      "7\n"
     ]
    }
   ],
   "source": [
    "N = 15\n",
    "\n",
    "np.random.seed(1) # This is to make sure we get reproduceable results\n",
    "a = randint(2, 15)\n",
    "print(a)\n",
    "\n",
    "def qpe_amod15(a):\n",
    "    \"\"\"Performs quantum phase estimation on the operation a*r mod 15.\n",
    "    Args:\n",
    "        a (int): This is 'a' in a*r mod 15\n",
    "    Returns:\n",
    "        float: Estimate of the phase\n",
    "    \"\"\"\n",
    "    qubits_count = 8\n",
    "    qc = QuantumCircuit(4+qubits_count, qubits_count)\n",
    "    for q in range(qubits_count):\n",
    "        qc.h(q)     # Initialize counting qubits in state |+>\n",
    "    qc.x(qubits_count) # And auxiliary register in state |1>\n",
    "    for q in range(qubits_count): # Do controlled-U operations\n",
    "        qc.append(c_amod15(a, 2**q),\n",
    "                 [q] + [i+qubits_count for i in range(4)])\n",
    "    qc.append(qft_dagger(qubits_count), range(qubits_count)) # Do inverse-QFT\n",
    "    qc.measure(range(qubits_count), range(qubits_count))\n",
    "    # Simulate Results\n",
    "    backend = Aer()\n",
    "    # `memory=True` tells the backend to save each measurement in a list\n",
    "    job = backend.run(transpile(qc, backend), shots=1, memory=True)\n",
    "    readings = job.result().get_memory()\n",
    "    print(\"Register Reading: \" + readings[0])\n",
    "    phase = int(readings[0],2)/(2**qubits_count)\n",
    "    print(f\"Corresponding Phase: {phase}\")\n",
    "    return phase\n"
   ]
  },
  {
   "cell_type": "code",
   "execution_count": 58,
   "metadata": {},
   "outputs": [
    {
     "name": "stdout",
     "output_type": "stream",
     "text": [
      "Register Reading: 11000000\n",
      "Corresponding Phase: 0.75\n"
     ]
    },
    {
     "data": {
      "text/plain": [
       "Fraction(3, 4)"
      ]
     },
     "execution_count": 58,
     "metadata": {},
     "output_type": "execute_result"
    }
   ],
   "source": [
    "phase = qpe_amod15(a) # Phase = s/r\n",
    "Fraction(phase).limit_denominator(15)"
   ]
  },
  {
   "cell_type": "code",
   "execution_count": 59,
   "metadata": {},
   "outputs": [
    {
     "name": "stdout",
     "output_type": "stream",
     "text": [
      "4\n"
     ]
    }
   ],
   "source": [
    "frac = Fraction(phase).limit_denominator(15)\n",
    "s, r = frac.numerator, frac.denominator\n",
    "print(r)"
   ]
  },
  {
   "cell_type": "code",
   "execution_count": 60,
   "metadata": {},
   "outputs": [
    {
     "name": "stdout",
     "output_type": "stream",
     "text": [
      "[3, 5]\n"
     ]
    }
   ],
   "source": [
    "guesses = [gcd(a**(r//2)-1, N), gcd(a**(r//2)+1, N)]\n",
    "print(guesses)"
   ]
  },
  {
   "cell_type": "code",
   "execution_count": 63,
   "metadata": {},
   "outputs": [
    {
     "name": "stdout",
     "output_type": "stream",
     "text": [
      "\n",
      "ATTEMPT 1:\n",
      "Register Reading: 10000000\n",
      "Corresponding Phase: 0.5\n",
      "Result: r = 2\n",
      "Guessed Factors: 3 and 1\n",
      "*** Non-trivial factor found: 3 ***\n"
     ]
    }
   ],
   "source": [
    "a = 7\n",
    "FACTOR_FOUND = False\n",
    "ATTEMPT = 0\n",
    "\n",
    "while not FACTOR_FOUND:\n",
    "    ATTEMPT += 1\n",
    "    print(f\"\\nATTEMPT {ATTEMPT}:\")\n",
    "    \n",
    "    # Perform quantum phase estimation\n",
    "    phase = qpe_amod15(a)  # Phase = s/r\n",
    "    frac = Fraction(phase).limit_denominator(N)\n",
    "    r = frac.denominator\n",
    "    print(f\"Result: r = {r}\")\n",
    "    \n",
    "    if phase != 0:\n",
    "        # Guesses for factors are gcd(x^{r/2} ±1 , 15)\n",
    "        guesses = [gcd(a**(r//2)-1, N), gcd(a**(r//2)+1, N)]\n",
    "        print(f\"Guessed Factors: {guesses[0]} and {guesses[1]}\")\n",
    "        \n",
    "        for guess in guesses:\n",
    "            if guess not in [1, N] and (N % guess) == 0:\n",
    "                # Guess is a factor!\n",
    "                print(f\"*** Non-trivial factor found: {guess} ***\")\n",
    "                FACTOR_FOUND = True\n",
    "\n",
    "# Ensure that one of the guesses is a factor of N\n",
    "assert (3 in guesses) or (5 in guesses)"
   ]
  }
 ],
 "metadata": {
  "kernelspec": {
   "display_name": "Qiskit2",
   "language": "python",
   "name": "qiskit2"
  },
  "language_info": {
   "codemirror_mode": {
    "name": "ipython",
    "version": 3
   },
   "file_extension": ".py",
   "mimetype": "text/x-python",
   "name": "python",
   "nbconvert_exporter": "python",
   "pygments_lexer": "ipython3",
   "version": "3.12.4"
  }
 },
 "nbformat": 4,
 "nbformat_minor": 2
}
