{
 "cells": [
  {
   "cell_type": "markdown",
   "metadata": {},
   "source": [
    "# HHL"
   ]
  },
  {
   "cell_type": "code",
   "execution_count": 4,
   "metadata": {},
   "outputs": [
    {
     "ename": "ImportError",
     "evalue": "cannot import name 'Aer' from 'qiskit' (/Library/Frameworks/Python.framework/Versions/3.12/lib/python3.12/site-packages/qiskit/__init__.py)",
     "output_type": "error",
     "traceback": [
      "\u001b[0;31m---------------------------------------------------------------------------\u001b[0m",
      "\u001b[0;31mImportError\u001b[0m                               Traceback (most recent call last)",
      "Cell \u001b[0;32mIn[4], line 2\u001b[0m\n\u001b[1;32m      1\u001b[0m \u001b[38;5;28;01mimport\u001b[39;00m \u001b[38;5;21;01mnumpy\u001b[39;00m \u001b[38;5;28;01mas\u001b[39;00m \u001b[38;5;21;01mnp\u001b[39;00m\n\u001b[0;32m----> 2\u001b[0m \u001b[38;5;28;01mfrom\u001b[39;00m \u001b[38;5;21;01mqiskit\u001b[39;00m \u001b[38;5;28;01mimport\u001b[39;00m QuantumCircuit, Aer, transpile, assemble, execute\n\u001b[1;32m      3\u001b[0m \u001b[38;5;28;01mfrom\u001b[39;00m \u001b[38;5;21;01mqiskit\u001b[39;00m\u001b[38;5;21;01m.\u001b[39;00m\u001b[38;5;21;01mextensions\u001b[39;00m \u001b[38;5;28;01mimport\u001b[39;00m UnitaryGate\n\u001b[1;32m      4\u001b[0m \u001b[38;5;28;01mfrom\u001b[39;00m \u001b[38;5;21;01mqiskit\u001b[39;00m\u001b[38;5;21;01m.\u001b[39;00m\u001b[38;5;21;01mvisualization\u001b[39;00m \u001b[38;5;28;01mimport\u001b[39;00m plot_histogram\n",
      "\u001b[0;31mImportError\u001b[0m: cannot import name 'Aer' from 'qiskit' (/Library/Frameworks/Python.framework/Versions/3.12/lib/python3.12/site-packages/qiskit/__init__.py)"
     ]
    }
   ],
   "source": [
    "import numpy as np\n",
    "from qiskit import QuantumCircuit, Aer, transpile, assemble, execute\n",
    "from qiskit.extensions import UnitaryGate\n",
    "from qiskit.visualization import plot_histogram\n",
    "from qiskit.quantum_info import Statevector\n",
    "\n",
    "def create_hhl_circuit(A, b):\n",
    "    \"\"\"\n",
    "    Creates a quantum circuit implementing the HHL algorithm for Ax = b.\n",
    "    This implementation assumes A is a 2x2 Hermitian matrix.\n",
    "    \"\"\"\n",
    "    n_qubits = 3  # 1 for solution, 1 for eigenvalue register, 1 for ancilla\n",
    "    qc = QuantumCircuit(n_qubits)\n",
    "    \n",
    "    # Step 1: Prepare |b> state\n",
    "    theta = 2 * np.arccos(b[0])  # Rotation angle to prepare |b>\n",
    "    qc.ry(theta, 0)\n",
    "    \n",
    "    # Step 2: Apply QPE using controlled Unitary for A\n",
    "    eigen_angle = np.pi / 4  # Example eigenvalue evolution\n",
    "    A_gate = UnitaryGate([[np.cos(eigen_angle), -np.sin(eigen_angle)],\n",
    "                          [np.sin(eigen_angle), np.cos(eigen_angle)]], label=\"A\")\n",
    "    \n",
    "    qc.append(A_gate.control(1), [1, 0])  # Controlled A\n",
    "    \n",
    "    # Step 3: Inverse QPE (simulated by controlled rotation)\n",
    "    qc.cry(-np.pi / 4, 1, 2)  # Controlled Y rotation for solving 1/λ\n",
    "    \n",
    "    # Step 4: Inverse QPE to uncompute\n",
    "    qc.append(A_gate.control(1).inverse(), [1, 0])  # Controlled A†\n",
    "\n",
    "    # Step 5: Measure or extract the statevector\n",
    "    return qc\n",
    "\n",
    "# Define problem parameters\n",
    "A = np.array([[1, -1], [-1, 1]])  # Example Hermitian matrix\n",
    "b = np.array([1, 0])  # Example |b>\n",
    "\n",
    "# Create the HHL circuit\n",
    "hhl_circuit = create_hhl_circuit(A, b)\n",
    "\n",
    "# Simulate and display results\n",
    "sim = Aer.get_backend('statevector_simulator')\n",
    "job = execute(hhl_circuit, sim)\n",
    "result = job.result()\n",
    "statevector = result.get_statevector()\n",
    "\n",
    "# Display circuit and results\n",
    "hhl_circuit.draw('mpl')"
   ]
  }
 ],
 "metadata": {
  "kernelspec": {
   "display_name": "Qiskit2",
   "language": "python",
   "name": "qiskit2"
  },
  "language_info": {
   "codemirror_mode": {
    "name": "ipython",
    "version": 3
   },
   "file_extension": ".py",
   "mimetype": "text/x-python",
   "name": "python",
   "nbconvert_exporter": "python",
   "pygments_lexer": "ipython3",
   "version": "3.12.4"
  }
 },
 "nbformat": 4,
 "nbformat_minor": 2
}
